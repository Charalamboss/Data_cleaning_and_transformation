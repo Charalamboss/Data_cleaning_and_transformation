{
 "cells": [
  {
   "cell_type": "code",
   "execution_count": 18,
   "metadata": {},
   "outputs": [],
   "source": [
    "#Import libraries \n",
    "import pandas as pd\n"
   ]
  },
  {
   "cell_type": "markdown",
   "metadata": {},
   "source": [
    "Project ideas as given in https://www.youtube.com/watch?v=wObV_hwu2QM"
   ]
  },
  {
   "cell_type": "code",
   "execution_count": null,
   "metadata": {},
   "outputs": [],
   "source": [
    "#Import  csv file & convert it to dataframe\n",
    "df = pd.read_csv('FIFA23_official_data.csv')\n",
    "print(df.shape)\n",
    "#Print the data types for each column\n",
    "print(df.dtypes)\n",
    "print(df.Weight.dtype)\n",
    "print(df.Height.dtype)"
   ]
  },
  {
   "cell_type": "code",
   "execution_count": null,
   "metadata": {},
   "outputs": [],
   "source": [
    "#change the weight and height columns to float\n",
    "#Check the values in Height column\n",
    "print(df['Height'])\n",
    "#remove from height  the unit of measure \n",
    "df['Height'] = df['Height'].str.replace('cm', '')\n",
    "#See the changes \n",
    "print(df['Height'])\n",
    "#Convert Height into float\n",
    "df['Height'] = df['Height'].astype(float)"
   ]
  },
  {
   "cell_type": "markdown",
   "metadata": {},
   "source": [
    "Is the data frame contains the correct format ?"
   ]
  },
  {
   "cell_type": "code",
   "execution_count": null,
   "metadata": {},
   "outputs": [],
   "source": [
    "print(df['Weight'])\n",
    "#remove from height  the unit of measure \n",
    "df['Weight'] = df['Weight'].str.replace('kg', '')\n",
    "#See the changes \n",
    "print(df['Weight'])\n",
    "#Convert Height into float\n",
    "df['Weight'] = df['Weight'].astype(float)\n",
    "#See the changes \n",
    "print(df['Weight'])"
   ]
  },
  {
   "cell_type": "markdown",
   "metadata": {},
   "source": [
    "Can joining date being separated into month, day and year?"
   ]
  },
  {
   "cell_type": "code",
   "execution_count": 31,
   "metadata": {},
   "outputs": [],
   "source": [
    "#Split the Joining date into to three new columns \n",
    "df['Join Year'] = df['Joined'].str.split(',').str[1]\n",
    "df['Join Day'] = df['Joined'].str.split(' ').str[1].str.replace(',','')\n",
    "df['Join Month'] = df['Joined'].str.split(' ').str[0]"
   ]
  },
  {
   "cell_type": "markdown",
   "metadata": {},
   "source": [
    "Can clean and transform the value wage and release columns in to columns of integers ?"
   ]
  },
  {
   "cell_type": "code",
   "execution_count": null,
   "metadata": {},
   "outputs": [],
   "source": [
    "df['Wage']=df['Wage'].str.replace('K','')\n",
    "df['Wage']=df['Wage'].str.replace('€','')\n",
    "df['Wage']=df['Wage'].to_numeric()\n"
   ]
  },
  {
   "cell_type": "markdown",
   "metadata": {},
   "source": [
    "Remove Nan Values from the data frame "
   ]
  },
  {
   "cell_type": "code",
   "execution_count": null,
   "metadata": {},
   "outputs": [],
   "source": [
    "df=df.dropna()\n",
    "print(df)"
   ]
  }
 ],
 "metadata": {
  "kernelspec": {
   "display_name": "base",
   "language": "python",
   "name": "python3"
  },
  "language_info": {
   "codemirror_mode": {
    "name": "ipython",
    "version": 3
   },
   "file_extension": ".py",
   "mimetype": "text/x-python",
   "name": "python",
   "nbconvert_exporter": "python",
   "pygments_lexer": "ipython3",
   "version": "3.8.8"
  }
 },
 "nbformat": 4,
 "nbformat_minor": 2
}
