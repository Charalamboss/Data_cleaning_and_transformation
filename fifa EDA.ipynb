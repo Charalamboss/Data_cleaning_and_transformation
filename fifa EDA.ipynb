{
 "cells": [
  {
   "cell_type": "code",
   "execution_count": 18,
   "metadata": {},
   "outputs": [],
   "source": [
    "#Import libraries \n",
    "import pandas as pd\n"
   ]
  },
  {
   "cell_type": "markdown",
   "metadata": {},
   "source": [
    "Project ideas as given in https://www.youtube.com/watch?v=wObV_hwu2QM"
   ]
  },
  {
   "cell_type": "code",
   "execution_count": 19,
   "metadata": {},
   "outputs": [
    {
     "name": "stdout",
     "output_type": "stream",
     "text": [
      "(17660, 29)\n",
      "ID                            int64\n",
      "Name                         object\n",
      "Age                           int64\n",
      "Photo                        object\n",
      "Nationality                  object\n",
      "Flag                         object\n",
      "Overall                       int64\n",
      "Potential                     int64\n",
      "Club                         object\n",
      "Club Logo                    object\n",
      "Value                        object\n",
      "Wage                         object\n",
      "Special                       int64\n",
      "Preferred Foot               object\n",
      "International Reputation    float64\n",
      "Weak Foot                   float64\n",
      "Skill Moves                 float64\n",
      "Work Rate                    object\n",
      "Body Type                    object\n",
      "Real Face                    object\n",
      "Position                     object\n",
      "Joined                       object\n",
      "Loaned From                  object\n",
      "Contract Valid Until         object\n",
      "Height                       object\n",
      "Weight                       object\n",
      "Release Clause               object\n",
      "Kit Number                  float64\n",
      "Best Overall Rating          object\n",
      "dtype: object\n",
      "object\n",
      "object\n"
     ]
    }
   ],
   "source": [
    "#Import  csv file & convert it to dataframe\n",
    "df = pd.read_csv('FIFA23_official_data.csv')\n",
    "print(df.shape)\n",
    "#Print the data types for each column\n",
    "print(df.dtypes)\n",
    "print(df.Weight.dtype)\n",
    "print(df.Height.dtype)"
   ]
  },
  {
   "cell_type": "code",
   "execution_count": 20,
   "metadata": {},
   "outputs": [
    {
     "name": "stdout",
     "output_type": "stream",
     "text": [
      "0        189cm\n",
      "1        179cm\n",
      "2        172cm\n",
      "3        181cm\n",
      "4        172cm\n",
      "         ...  \n",
      "17655    190cm\n",
      "17656    195cm\n",
      "17657    190cm\n",
      "17658    187cm\n",
      "17659    186cm\n",
      "Name: Height, Length: 17660, dtype: object\n",
      "0        189\n",
      "1        179\n",
      "2        172\n",
      "3        181\n",
      "4        172\n",
      "        ... \n",
      "17655    190\n",
      "17656    195\n",
      "17657    190\n",
      "17658    187\n",
      "17659    186\n",
      "Name: Height, Length: 17660, dtype: object\n"
     ]
    }
   ],
   "source": [
    "#change the weight and height columns to float\n",
    "#Check the values in Height column\n",
    "print(df['Height'])\n",
    "#remove from height  the unit of measure \n",
    "df['Height'] = df['Height'].str.replace('cm', '')\n",
    "#See the changes \n",
    "print(df['Height'])\n",
    "#Convert Height into float\n",
    "df['Height'] = df['Height'].astype(float)"
   ]
  },
  {
   "cell_type": "markdown",
   "metadata": {},
   "source": [
    "Is the data frame contains the correct format ?"
   ]
  },
  {
   "cell_type": "code",
   "execution_count": 21,
   "metadata": {},
   "outputs": [
    {
     "name": "stdout",
     "output_type": "stream",
     "text": [
      "0        82kg\n",
      "1        69kg\n",
      "2        69kg\n",
      "3        70kg\n",
      "4        68kg\n",
      "         ... \n",
      "17655    78kg\n",
      "17656    84kg\n",
      "17657    82kg\n",
      "17658    79kg\n",
      "17659    78kg\n",
      "Name: Weight, Length: 17660, dtype: object\n",
      "0        82\n",
      "1        69\n",
      "2        69\n",
      "3        70\n",
      "4        68\n",
      "         ..\n",
      "17655    78\n",
      "17656    84\n",
      "17657    82\n",
      "17658    79\n",
      "17659    78\n",
      "Name: Weight, Length: 17660, dtype: object\n",
      "0        82.0\n",
      "1        69.0\n",
      "2        69.0\n",
      "3        70.0\n",
      "4        68.0\n",
      "         ... \n",
      "17655    78.0\n",
      "17656    84.0\n",
      "17657    82.0\n",
      "17658    79.0\n",
      "17659    78.0\n",
      "Name: Weight, Length: 17660, dtype: float64\n"
     ]
    }
   ],
   "source": [
    "print(df['Weight'])\n",
    "#remove from height  the unit of measure \n",
    "df['Weight'] = df['Weight'].str.replace('kg', '')\n",
    "#See the changes \n",
    "print(df['Weight'])\n",
    "#Convert Height into float\n",
    "df['Weight'] = df['Weight'].astype(float)\n",
    "#See the changes \n",
    "print(df['Weight'])"
   ]
  },
  {
   "cell_type": "markdown",
   "metadata": {},
   "source": [
    "Can joining date being separated into month, day and year?"
   ]
  },
  {
   "cell_type": "code",
   "execution_count": 31,
   "metadata": {},
   "outputs": [],
   "source": [
    "#Split the Joining date into to three new columns \n",
    "df['Join Year'] = df['Joined'].str.split(',').str[1]\n",
    "df['Join Day'] = df['Joined'].str.split(' ').str[1].str.replace(',','')\n",
    "df['Join Month'] = df['Joined'].str.split(' ').str[0]"
   ]
  },
  {
   "cell_type": "markdown",
   "metadata": {},
   "source": [
    "Can clean and transform the value wage and release columns in to columns of integers ?"
   ]
  },
  {
   "cell_type": "code",
   "execution_count": 35,
   "metadata": {},
   "outputs": [
    {
     "ename": "AttributeError",
     "evalue": "'Series' object has no attribute 'to_numeric'",
     "output_type": "error",
     "traceback": [
      "\u001b[1;31m---------------------------------------------------------------------------\u001b[0m",
      "\u001b[1;31mAttributeError\u001b[0m                            Traceback (most recent call last)",
      "\u001b[1;32m<ipython-input-35-095ac75c812b>\u001b[0m in \u001b[0;36m<module>\u001b[1;34m\u001b[0m\n\u001b[0;32m      1\u001b[0m \u001b[0mdf\u001b[0m\u001b[1;33m[\u001b[0m\u001b[1;34m'Wage'\u001b[0m\u001b[1;33m]\u001b[0m\u001b[1;33m=\u001b[0m\u001b[0mdf\u001b[0m\u001b[1;33m[\u001b[0m\u001b[1;34m'Wage'\u001b[0m\u001b[1;33m]\u001b[0m\u001b[1;33m.\u001b[0m\u001b[0mstr\u001b[0m\u001b[1;33m.\u001b[0m\u001b[0mreplace\u001b[0m\u001b[1;33m(\u001b[0m\u001b[1;34m'K'\u001b[0m\u001b[1;33m,\u001b[0m\u001b[1;34m''\u001b[0m\u001b[1;33m)\u001b[0m\u001b[1;33m\u001b[0m\u001b[1;33m\u001b[0m\u001b[0m\n\u001b[0;32m      2\u001b[0m \u001b[0mdf\u001b[0m\u001b[1;33m[\u001b[0m\u001b[1;34m'Wage'\u001b[0m\u001b[1;33m]\u001b[0m\u001b[1;33m=\u001b[0m\u001b[0mdf\u001b[0m\u001b[1;33m[\u001b[0m\u001b[1;34m'Wage'\u001b[0m\u001b[1;33m]\u001b[0m\u001b[1;33m.\u001b[0m\u001b[0mstr\u001b[0m\u001b[1;33m.\u001b[0m\u001b[0mreplace\u001b[0m\u001b[1;33m(\u001b[0m\u001b[1;34m'€'\u001b[0m\u001b[1;33m,\u001b[0m\u001b[1;34m''\u001b[0m\u001b[1;33m)\u001b[0m\u001b[1;33m\u001b[0m\u001b[1;33m\u001b[0m\u001b[0m\n\u001b[1;32m----> 3\u001b[1;33m \u001b[0mdf\u001b[0m\u001b[1;33m[\u001b[0m\u001b[1;34m'Wage'\u001b[0m\u001b[1;33m]\u001b[0m\u001b[1;33m=\u001b[0m\u001b[0mdf\u001b[0m\u001b[1;33m[\u001b[0m\u001b[1;34m'Wage'\u001b[0m\u001b[1;33m]\u001b[0m\u001b[1;33m.\u001b[0m\u001b[0mto_numeric\u001b[0m\u001b[1;33m(\u001b[0m\u001b[1;33m)\u001b[0m\u001b[1;33m\u001b[0m\u001b[1;33m\u001b[0m\u001b[0m\n\u001b[0m",
      "\u001b[1;32mc:\\Users\\CP\\anaconda3\\lib\\site-packages\\pandas\\core\\generic.py\u001b[0m in \u001b[0;36m__getattr__\u001b[1;34m(self, name)\u001b[0m\n\u001b[0;32m   5463\u001b[0m             \u001b[1;32mif\u001b[0m \u001b[0mself\u001b[0m\u001b[1;33m.\u001b[0m\u001b[0m_info_axis\u001b[0m\u001b[1;33m.\u001b[0m\u001b[0m_can_hold_identifiers_and_holds_name\u001b[0m\u001b[1;33m(\u001b[0m\u001b[0mname\u001b[0m\u001b[1;33m)\u001b[0m\u001b[1;33m:\u001b[0m\u001b[1;33m\u001b[0m\u001b[1;33m\u001b[0m\u001b[0m\n\u001b[0;32m   5464\u001b[0m                 \u001b[1;32mreturn\u001b[0m \u001b[0mself\u001b[0m\u001b[1;33m[\u001b[0m\u001b[0mname\u001b[0m\u001b[1;33m]\u001b[0m\u001b[1;33m\u001b[0m\u001b[1;33m\u001b[0m\u001b[0m\n\u001b[1;32m-> 5465\u001b[1;33m             \u001b[1;32mreturn\u001b[0m \u001b[0mobject\u001b[0m\u001b[1;33m.\u001b[0m\u001b[0m__getattribute__\u001b[0m\u001b[1;33m(\u001b[0m\u001b[0mself\u001b[0m\u001b[1;33m,\u001b[0m \u001b[0mname\u001b[0m\u001b[1;33m)\u001b[0m\u001b[1;33m\u001b[0m\u001b[1;33m\u001b[0m\u001b[0m\n\u001b[0m\u001b[0;32m   5466\u001b[0m \u001b[1;33m\u001b[0m\u001b[0m\n\u001b[0;32m   5467\u001b[0m     \u001b[1;32mdef\u001b[0m \u001b[0m__setattr__\u001b[0m\u001b[1;33m(\u001b[0m\u001b[0mself\u001b[0m\u001b[1;33m,\u001b[0m \u001b[0mname\u001b[0m\u001b[1;33m:\u001b[0m \u001b[0mstr\u001b[0m\u001b[1;33m,\u001b[0m \u001b[0mvalue\u001b[0m\u001b[1;33m)\u001b[0m \u001b[1;33m->\u001b[0m \u001b[1;32mNone\u001b[0m\u001b[1;33m:\u001b[0m\u001b[1;33m\u001b[0m\u001b[1;33m\u001b[0m\u001b[0m\n",
      "\u001b[1;31mAttributeError\u001b[0m: 'Series' object has no attribute 'to_numeric'"
     ]
    }
   ],
   "source": [
    "df['Wage']=df['Wage'].str.replace('K','')\n",
    "df['Wage']=df['Wage'].str.replace('€','')\n",
    "df['Wage']=df['Wage'].to_numeric()\n"
   ]
  },
  {
   "cell_type": "markdown",
   "metadata": {},
   "source": [
    "Remove Nan Values from the data frame "
   ]
  },
  {
   "cell_type": "code",
   "execution_count": 41,
   "metadata": {},
   "outputs": [
    {
     "ename": "AttributeError",
     "evalue": "'function' object has no attribute 'dropna'",
     "output_type": "error",
     "traceback": [
      "\u001b[1;31m---------------------------------------------------------------------------\u001b[0m",
      "\u001b[1;31mAttributeError\u001b[0m                            Traceback (most recent call last)",
      "\u001b[1;32m<ipython-input-41-7e5d23652c59>\u001b[0m in \u001b[0;36m<module>\u001b[1;34m\u001b[0m\n\u001b[1;32m----> 1\u001b[1;33m \u001b[0mdf\u001b[0m\u001b[1;33m=\u001b[0m\u001b[0mdf\u001b[0m\u001b[1;33m.\u001b[0m\u001b[0mdropna\u001b[0m\u001b[1;33m(\u001b[0m\u001b[1;33m)\u001b[0m\u001b[1;33m\u001b[0m\u001b[1;33m\u001b[0m\u001b[0m\n\u001b[0m\u001b[0;32m      2\u001b[0m \u001b[0mprint\u001b[0m\u001b[1;33m(\u001b[0m\u001b[0mdf\u001b[0m\u001b[1;33m)\u001b[0m\u001b[1;33m\u001b[0m\u001b[1;33m\u001b[0m\u001b[0m\n",
      "\u001b[1;31mAttributeError\u001b[0m: 'function' object has no attribute 'dropna'"
     ]
    }
   ],
   "source": [
    "df=df.dropna()\n",
    "print(df)"
   ]
  }
 ],
 "metadata": {
  "kernelspec": {
   "display_name": "base",
   "language": "python",
   "name": "python3"
  },
  "language_info": {
   "codemirror_mode": {
    "name": "ipython",
    "version": 3
   },
   "file_extension": ".py",
   "mimetype": "text/x-python",
   "name": "python",
   "nbconvert_exporter": "python",
   "pygments_lexer": "ipython3",
   "version": "3.8.8"
  }
 },
 "nbformat": 4,
 "nbformat_minor": 2
}
